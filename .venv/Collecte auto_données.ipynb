{
 "cells": [
  {
   "cell_type": "code",
   "execution_count": 135,
   "id": "1d467bef",
   "metadata": {},
   "outputs": [],
   "source": [
    "# pip install pyarrow\n",
    "# ! pip install pandas\n",
    "# ! pip install requests"
   ]
  },
  {
   "cell_type": "code",
   "execution_count": 136,
   "id": "79f71058",
   "metadata": {},
   "outputs": [],
   "source": [
    "import pyarrow.parquet as pd\n",
    "# import pandas as pd"
   ]
  },
  {
   "cell_type": "code",
   "execution_count": null,
   "id": "7d73e355",
   "metadata": {},
   "outputs": [],
   "source": [
    "# Importer manuellement le fichier\n",
    "\n",
    "df = pd.read_table(\"yellow_tripdata_2025-01.parquet\")\n",
    "type(df)"
   ]
  },
  {
   "cell_type": "code",
   "execution_count": null,
   "id": "20c36e16",
   "metadata": {},
   "outputs": [
    {
     "data": {
      "text/html": [
       "<div>\n",
       "<style scoped>\n",
       "    .dataframe tbody tr th:only-of-type {\n",
       "        vertical-align: middle;\n",
       "    }\n",
       "\n",
       "    .dataframe tbody tr th {\n",
       "        vertical-align: top;\n",
       "    }\n",
       "\n",
       "    .dataframe thead th {\n",
       "        text-align: right;\n",
       "    }\n",
       "</style>\n",
       "<table border=\"1\" class=\"dataframe\">\n",
       "  <thead>\n",
       "    <tr style=\"text-align: right;\">\n",
       "      <th></th>\n",
       "      <th>VendorID</th>\n",
       "      <th>tpep_pickup_datetime</th>\n",
       "      <th>tpep_dropoff_datetime</th>\n",
       "      <th>passenger_count</th>\n",
       "      <th>trip_distance</th>\n",
       "      <th>RatecodeID</th>\n",
       "      <th>store_and_fwd_flag</th>\n",
       "      <th>PULocationID</th>\n",
       "      <th>DOLocationID</th>\n",
       "      <th>payment_type</th>\n",
       "      <th>fare_amount</th>\n",
       "      <th>extra</th>\n",
       "      <th>mta_tax</th>\n",
       "      <th>tip_amount</th>\n",
       "      <th>tolls_amount</th>\n",
       "      <th>improvement_surcharge</th>\n",
       "      <th>total_amount</th>\n",
       "      <th>congestion_surcharge</th>\n",
       "      <th>Airport_fee</th>\n",
       "      <th>cbd_congestion_fee</th>\n",
       "    </tr>\n",
       "  </thead>\n",
       "  <tbody>\n",
       "    <tr>\n",
       "      <th>0</th>\n",
       "      <td>1</td>\n",
       "      <td>2025-01-01 00:18:38</td>\n",
       "      <td>2025-01-01 00:26:59</td>\n",
       "      <td>1.0</td>\n",
       "      <td>1.60</td>\n",
       "      <td>1.0</td>\n",
       "      <td>N</td>\n",
       "      <td>229</td>\n",
       "      <td>237</td>\n",
       "      <td>1</td>\n",
       "      <td>10.0</td>\n",
       "      <td>3.5</td>\n",
       "      <td>0.5</td>\n",
       "      <td>3.00</td>\n",
       "      <td>0.0</td>\n",
       "      <td>1.0</td>\n",
       "      <td>18.00</td>\n",
       "      <td>2.5</td>\n",
       "      <td>0.0</td>\n",
       "      <td>0.0</td>\n",
       "    </tr>\n",
       "    <tr>\n",
       "      <th>1</th>\n",
       "      <td>1</td>\n",
       "      <td>2025-01-01 00:32:40</td>\n",
       "      <td>2025-01-01 00:35:13</td>\n",
       "      <td>1.0</td>\n",
       "      <td>0.50</td>\n",
       "      <td>1.0</td>\n",
       "      <td>N</td>\n",
       "      <td>236</td>\n",
       "      <td>237</td>\n",
       "      <td>1</td>\n",
       "      <td>5.1</td>\n",
       "      <td>3.5</td>\n",
       "      <td>0.5</td>\n",
       "      <td>2.02</td>\n",
       "      <td>0.0</td>\n",
       "      <td>1.0</td>\n",
       "      <td>12.12</td>\n",
       "      <td>2.5</td>\n",
       "      <td>0.0</td>\n",
       "      <td>0.0</td>\n",
       "    </tr>\n",
       "    <tr>\n",
       "      <th>2</th>\n",
       "      <td>1</td>\n",
       "      <td>2025-01-01 00:44:04</td>\n",
       "      <td>2025-01-01 00:46:01</td>\n",
       "      <td>1.0</td>\n",
       "      <td>0.60</td>\n",
       "      <td>1.0</td>\n",
       "      <td>N</td>\n",
       "      <td>141</td>\n",
       "      <td>141</td>\n",
       "      <td>1</td>\n",
       "      <td>5.1</td>\n",
       "      <td>3.5</td>\n",
       "      <td>0.5</td>\n",
       "      <td>2.00</td>\n",
       "      <td>0.0</td>\n",
       "      <td>1.0</td>\n",
       "      <td>12.10</td>\n",
       "      <td>2.5</td>\n",
       "      <td>0.0</td>\n",
       "      <td>0.0</td>\n",
       "    </tr>\n",
       "    <tr>\n",
       "      <th>3</th>\n",
       "      <td>2</td>\n",
       "      <td>2025-01-01 00:14:27</td>\n",
       "      <td>2025-01-01 00:20:01</td>\n",
       "      <td>3.0</td>\n",
       "      <td>0.52</td>\n",
       "      <td>1.0</td>\n",
       "      <td>N</td>\n",
       "      <td>244</td>\n",
       "      <td>244</td>\n",
       "      <td>2</td>\n",
       "      <td>7.2</td>\n",
       "      <td>1.0</td>\n",
       "      <td>0.5</td>\n",
       "      <td>0.00</td>\n",
       "      <td>0.0</td>\n",
       "      <td>1.0</td>\n",
       "      <td>9.70</td>\n",
       "      <td>0.0</td>\n",
       "      <td>0.0</td>\n",
       "      <td>0.0</td>\n",
       "    </tr>\n",
       "    <tr>\n",
       "      <th>4</th>\n",
       "      <td>2</td>\n",
       "      <td>2025-01-01 00:21:34</td>\n",
       "      <td>2025-01-01 00:25:06</td>\n",
       "      <td>3.0</td>\n",
       "      <td>0.66</td>\n",
       "      <td>1.0</td>\n",
       "      <td>N</td>\n",
       "      <td>244</td>\n",
       "      <td>116</td>\n",
       "      <td>2</td>\n",
       "      <td>5.8</td>\n",
       "      <td>1.0</td>\n",
       "      <td>0.5</td>\n",
       "      <td>0.00</td>\n",
       "      <td>0.0</td>\n",
       "      <td>1.0</td>\n",
       "      <td>8.30</td>\n",
       "      <td>0.0</td>\n",
       "      <td>0.0</td>\n",
       "      <td>0.0</td>\n",
       "    </tr>\n",
       "  </tbody>\n",
       "</table>\n",
       "</div>"
      ],
      "text/plain": [
       "   VendorID tpep_pickup_datetime tpep_dropoff_datetime  passenger_count  \\\n",
       "0         1  2025-01-01 00:18:38   2025-01-01 00:26:59              1.0   \n",
       "1         1  2025-01-01 00:32:40   2025-01-01 00:35:13              1.0   \n",
       "2         1  2025-01-01 00:44:04   2025-01-01 00:46:01              1.0   \n",
       "3         2  2025-01-01 00:14:27   2025-01-01 00:20:01              3.0   \n",
       "4         2  2025-01-01 00:21:34   2025-01-01 00:25:06              3.0   \n",
       "\n",
       "   trip_distance  RatecodeID store_and_fwd_flag  PULocationID  DOLocationID  \\\n",
       "0           1.60         1.0                  N           229           237   \n",
       "1           0.50         1.0                  N           236           237   \n",
       "2           0.60         1.0                  N           141           141   \n",
       "3           0.52         1.0                  N           244           244   \n",
       "4           0.66         1.0                  N           244           116   \n",
       "\n",
       "   payment_type  fare_amount  extra  mta_tax  tip_amount  tolls_amount  \\\n",
       "0             1         10.0    3.5      0.5        3.00           0.0   \n",
       "1             1          5.1    3.5      0.5        2.02           0.0   \n",
       "2             1          5.1    3.5      0.5        2.00           0.0   \n",
       "3             2          7.2    1.0      0.5        0.00           0.0   \n",
       "4             2          5.8    1.0      0.5        0.00           0.0   \n",
       "\n",
       "   improvement_surcharge  total_amount  congestion_surcharge  Airport_fee  \\\n",
       "0                    1.0         18.00                   2.5          0.0   \n",
       "1                    1.0         12.12                   2.5          0.0   \n",
       "2                    1.0         12.10                   2.5          0.0   \n",
       "3                    1.0          9.70                   0.0          0.0   \n",
       "4                    1.0          8.30                   0.0          0.0   \n",
       "\n",
       "   cbd_congestion_fee  \n",
       "0                 0.0  \n",
       "1                 0.0  \n",
       "2                 0.0  \n",
       "3                 0.0  \n",
       "4                 0.0  "
      ]
     },
     "execution_count": 9,
     "metadata": {},
     "output_type": "execute_result"
    }
   ],
   "source": [
    "# Convertir le fichier parquet en une DataFrame\n",
    "df = df.to_pandas()\n",
    "df.head()"
   ]
  },
  {
   "cell_type": "code",
   "execution_count": null,
   "id": "a5c83704",
   "metadata": {},
   "outputs": [
    {
     "data": {
      "text/plain": [
       "(3475226, 20)"
      ]
     },
     "execution_count": 11,
     "metadata": {},
     "output_type": "execute_result"
    }
   ],
   "source": [
    "# La dimension\n",
    "df.shape"
   ]
  },
  {
   "cell_type": "code",
   "execution_count": null,
   "id": "05ade312",
   "metadata": {},
   "outputs": [],
   "source": [
    "import requests\n",
    "import os"
   ]
  },
  {
   "cell_type": "code",
   "execution_count": null,
   "id": "fc164c7d",
   "metadata": {},
   "outputs": [],
   "source": [
    "# Création d'un dossiers pour stocker les fichiers téléchargés\n",
    "os.makedirs(\"yellow_taxi_data\", exist_ok=True)"
   ]
  },
  {
   "cell_type": "code",
   "execution_count": null,
   "id": "f17b7312",
   "metadata": {},
   "outputs": [
    {
     "name": "stdout",
     "output_type": "stream",
     "text": [
      "https://d37ci6vzurychx.cloudfront.net/trip-data/yellow_tripdata_2024-1.parquet\n",
      "https://d37ci6vzurychx.cloudfront.net/trip-data/yellow_tripdata_2024-2.parquet\n",
      "https://d37ci6vzurychx.cloudfront.net/trip-data/yellow_tripdata_2024-3.parquet\n",
      "https://d37ci6vzurychx.cloudfront.net/trip-data/yellow_tripdata_2024-4.parquet\n",
      "https://d37ci6vzurychx.cloudfront.net/trip-data/yellow_tripdata_2024-5.parquet\n",
      "https://d37ci6vzurychx.cloudfront.net/trip-data/yellow_tripdata_2024-6.parquet\n",
      "https://d37ci6vzurychx.cloudfront.net/trip-data/yellow_tripdata_2024-7.parquet\n",
      "https://d37ci6vzurychx.cloudfront.net/trip-data/yellow_tripdata_2024-8.parquet\n",
      "https://d37ci6vzurychx.cloudfront.net/trip-data/yellow_tripdata_2024-9.parquet\n",
      "https://d37ci6vzurychx.cloudfront.net/trip-data/yellow_tripdata_2024-10.parquet\n",
      "https://d37ci6vzurychx.cloudfront.net/trip-data/yellow_tripdata_2024-11.parquet\n",
      "https://d37ci6vzurychx.cloudfront.net/trip-data/yellow_tripdata_2024-12.parquet\n"
     ]
    }
   ],
   "source": [
    "for year in range(2024, 2023, -1):\n",
    "    for month in range(1, 13):\n",
    " # Construire de l'url de téléchargement en fonction de l'année et du mois\n",
    "         download_url = f\"https://d37ci6vzurychx.cloudfront.net/trip-data/yellow_tripdata_{year}-{month}.parquet\"  \n",
    "         print(download_url)   \n",
    "    "
   ]
  },
  {
   "cell_type": "code",
   "execution_count": null,
   "id": "df15c8ec",
   "metadata": {},
   "outputs": [],
   "source": [
    "# Construire le nom des fichiers\n",
    "for year in range(2024, 2023, -1):\n",
    "    for month in range(1, 13):\n",
    "        file_name = f\"yellow_taxi_data/yellow_tripdata_{year}-{month}.parquet\"\n",
    "        print(file_name)"
   ]
  },
  {
   "cell_type": "code",
   "execution_count": 139,
   "id": "aeaca5ea",
   "metadata": {},
   "outputs": [
    {
     "name": "stdout",
     "output_type": "stream",
     "text": [
      "Téléchargement de yellow_taxi_data/yellow_tripdata_2022-01.parquet...\n",
      "Téléchargement de yellow_taxi_data/yellow_tripdata_2022-02.parquet...\n",
      "Téléchargement de yellow_taxi_data/yellow_tripdata_2022-03.parquet...\n",
      "Téléchargement de yellow_taxi_data/yellow_tripdata_2022-04.parquet...\n",
      "Téléchargement de yellow_taxi_data/yellow_tripdata_2022-05.parquet...\n",
      "Téléchargement de yellow_taxi_data/yellow_tripdata_2022-06.parquet...\n",
      "Téléchargement de yellow_taxi_data/yellow_tripdata_2022-07.parquet...\n",
      "Téléchargement de yellow_taxi_data/yellow_tripdata_2022-08.parquet...\n",
      "Téléchargement de yellow_taxi_data/yellow_tripdata_2022-09.parquet...\n",
      "Téléchargement de yellow_taxi_data/yellow_tripdata_2022-10.parquet...\n",
      "Téléchargement de yellow_taxi_data/yellow_tripdata_2022-11.parquet...\n",
      "Téléchargement de yellow_taxi_data/yellow_tripdata_2022-12.parquet...\n",
      "Téléchargement terminé!\n"
     ]
    }
   ],
   "source": [
    "# Télécharger les fichiers dans le dossier yellow_taxi_data\n",
    "\n",
    "for year in range(2022, 2021, -1):\n",
    "    for month in range(1, 13):\n",
    "        \n",
    "        download_url = f\"https://d37ci6vzurychx.cloudfront.net/trip-data/yellow_tripdata_{year}-{month:02d}.parquet\"  \n",
    "        file_name = f\"yellow_taxi_data/yellow_tripdata_{year}-{month:02d}.parquet\"\n",
    "        \n",
    "        print(f\"Téléchargement de {file_name}...\")\n",
    "        response = requests.get(download_url)\n",
    "        \n",
    "        if response.status_code == 200:\n",
    "            with open(file_name, \"wb\") as f:\n",
    "                f.write(response.content)\n",
    "        else:\n",
    "            print(\"Impossible de télécharger {file_name}. code de statuts HTTP: {response.statuts_code}\")\n",
    "print(\"Téléchargement terminé!\")"
   ]
  },
  {
   "cell_type": "code",
   "execution_count": null,
   "id": "f4154915",
   "metadata": {},
   "outputs": [
    {
     "data": {
      "text/plain": [
       "['yellow_tripdata_2022-01.parquet',\n",
       " 'yellow_tripdata_2022-02.parquet',\n",
       " 'yellow_tripdata_2022-03.parquet',\n",
       " 'yellow_tripdata_2022-04.parquet',\n",
       " 'yellow_tripdata_2022-05.parquet',\n",
       " 'yellow_tripdata_2022-06.parquet',\n",
       " 'yellow_tripdata_2022-07.parquet',\n",
       " 'yellow_tripdata_2022-08.parquet',\n",
       " 'yellow_tripdata_2022-09.parquet',\n",
       " 'yellow_tripdata_2022-10.parquet',\n",
       " 'yellow_tripdata_2022-11.parquet',\n",
       " 'yellow_tripdata_2022-12.parquet',\n",
       " 'yellow_tripdata_2023-01.parquet',\n",
       " 'yellow_tripdata_2023-02.parquet',\n",
       " 'yellow_tripdata_2023-03.parquet',\n",
       " 'yellow_tripdata_2023-04.parquet',\n",
       " 'yellow_tripdata_2023-05.parquet',\n",
       " 'yellow_tripdata_2023-06.parquet',\n",
       " 'yellow_tripdata_2023-07.parquet',\n",
       " 'yellow_tripdata_2023-08.parquet',\n",
       " 'yellow_tripdata_2023-09.parquet',\n",
       " 'yellow_tripdata_2023-10.parquet',\n",
       " 'yellow_tripdata_2023-11.parquet',\n",
       " 'yellow_tripdata_2023-12.parquet']"
      ]
     },
     "execution_count": 102,
     "metadata": {},
     "output_type": "execute_result"
    }
   ],
   "source": [
    "# Liste des fichiers dans le dossier yellow_taxi_data\n",
    "\n",
    "from os import listdir\n",
    "from os.path import isfile, join\n",
    "mypath = \"./yellow_taxi_data\"\n",
    "onlyfiles = [f for f in listdir(mypath) if isfile(join(mypath, f))]\n",
    "onlyfiles"
   ]
  },
  {
   "cell_type": "code",
   "execution_count": null,
   "id": "ac4b4633",
   "metadata": {},
   "outputs": [
    {
     "data": {
      "text/plain": [
       "24"
      ]
     },
     "execution_count": 104,
     "metadata": {},
     "output_type": "execute_result"
    }
   ],
   "source": [
    "# Compter le nombre de fichier dans le dossier yellow_taxi_data\n",
    "len(onlyfiles)"
   ]
  },
  {
   "cell_type": "code",
   "execution_count": null,
   "id": "7c861f3b",
   "metadata": {},
   "outputs": [],
   "source": [
    "from datetime import datetime, timedelta"
   ]
  },
  {
   "cell_type": "code",
   "execution_count": null,
   "id": "7eab85ad",
   "metadata": {},
   "outputs": [
    {
     "data": {
      "text/plain": [
       "datetime.datetime(2025, 10, 8, 15, 38, 41, 613418)"
      ]
     },
     "execution_count": 109,
     "metadata": {},
     "output_type": "execute_result"
    }
   ],
   "source": [
    "datetime.today()"
   ]
  },
  {
   "cell_type": "code",
   "execution_count": null,
   "id": "a9d9ac7a",
   "metadata": {},
   "outputs": [],
   "source": [
    "# Fonction pour obtenir la date actuelle moins 2 mois\n",
    "\n",
    "def get_previous_month():\n",
    "    today = datetime.today()\n",
    "    two_months_ago = today - timedelta(days=60)\n",
    "    return two_months_ago.strftime(\"%Y-%m\")"
   ]
  },
  {
   "cell_type": "code",
   "execution_count": null,
   "id": "64cd3a89",
   "metadata": {},
   "outputs": [
    {
     "data": {
      "text/plain": [
       "'2025-08'"
      ]
     },
     "execution_count": 114,
     "metadata": {},
     "output_type": "execute_result"
    }
   ],
   "source": [
    "get_previous_month()"
   ]
  },
  {
   "cell_type": "code",
   "execution_count": null,
   "id": "f433fe92",
   "metadata": {},
   "outputs": [
    {
     "data": {
      "text/plain": [
       "2025"
      ]
     },
     "execution_count": 115,
     "metadata": {},
     "output_type": "execute_result"
    }
   ],
   "source": [
    "# Afficher l'année courante\n",
    "current_year = datetime.now().year\n",
    "current_year"
   ]
  },
  {
   "cell_type": "code",
   "execution_count": null,
   "id": "af72d07d",
   "metadata": {},
   "outputs": [
    {
     "data": {
      "text/plain": [
       "10"
      ]
     },
     "execution_count": 128,
     "metadata": {},
     "output_type": "execute_result"
    }
   ],
   "source": [
    "# Afficher le mois courante\n",
    "current_month = datetime.now().month\n",
    "current_month"
   ]
  },
  {
   "cell_type": "code",
   "execution_count": null,
   "id": "4145a95c",
   "metadata": {},
   "outputs": [
    {
     "name": "stdout",
     "output_type": "stream",
     "text": [
      "Téléchargement de yellow_taxi_data/yellow_tripdata_2025-08.parquet...\n",
      "Téléchargement de yellow_taxi_data/yellow_tripdata_2025-09.parquet...\n",
      "❌ Impossible de télécharger yellow_taxi_data/yellow_tripdata_2025-09.parquet. Code HTTP : 403\n",
      "Téléchargement de yellow_taxi_data/yellow_tripdata_2025-10.parquet...\n",
      "❌ Impossible de télécharger yellow_taxi_data/yellow_tripdata_2025-10.parquet. Code HTTP : 403\n",
      "✅ Téléchargement terminé !\n"
     ]
    }
   ],
   "source": [
    "# Le but du script est de télécharger automatiquement les fichiers de données de taxis new-yorkais ,\n",
    "# mais seulement jusqu’à deux mois avant la date actuelle, pour éviter les fichiers trop récents.\n",
    "\n",
    "import requests\n",
    "from datetime import datetime, timedelta\n",
    "import os\n",
    "\n",
    "# Fonction pour obtenir la date actuelle moins 2 mois\n",
    "def get_previous_month():\n",
    "    today = datetime.today()\n",
    "    two_months_ago = today - timedelta(days=60)\n",
    "    return two_months_ago.strftime(\"%Y-%m\")\n",
    "\n",
    "# Année et mois courants\n",
    "current_year = datetime.now().year\n",
    "current_month = datetime.now().month\n",
    "\n",
    "# Mois de référence\n",
    "previous_month = get_previous_month()\n",
    "\n",
    "# Créer le dossier s'il n'existe pas\n",
    "os.makedirs(\"yellow_taxi_data\", exist_ok=True)\n",
    "\n",
    "# Boucle de téléchargement\n",
    "for year in range(2023, current_year + 1):\n",
    "    for month in range(1, current_month + 1):\n",
    "        # ignorer les mois à venir\n",
    "        if year == current_year and month > current_month:\n",
    "            continue\n",
    "        # ignorer les mois trop anciens\n",
    "        if f\"{year}-{month:02d}\" < previous_month:\n",
    "            continue\n",
    "        \n",
    "        download_url = f\"https://d37ci6vzurychx.cloudfront.net/trip-data/yellow_tripdata_{year}-{month:02d}.parquet\"\n",
    "        file_name = f\"yellow_taxi_data/yellow_tripdata_{year}-{month:02d}.parquet\"\n",
    "        \n",
    "        print(f\"Téléchargement de {file_name}...\")\n",
    "        response = requests.get(download_url)\n",
    "        \n",
    "        if response.status_code == 200:\n",
    "            with open(file_name, \"wb\") as f:\n",
    "                f.write(response.content)\n",
    "        else:\n",
    "            print(f\"❌ Impossible de télécharger {file_name}. Code HTTP : {response.status_code}\")\n",
    "\n",
    "print(\"✅ Téléchargement terminé !\")\n"
   ]
  }
 ],
 "metadata": {
  "kernelspec": {
   "display_name": ".venv",
   "language": "python",
   "name": "python3"
  },
  "language_info": {
   "codemirror_mode": {
    "name": "ipython",
    "version": 3
   },
   "file_extension": ".py",
   "mimetype": "text/x-python",
   "name": "python",
   "nbconvert_exporter": "python",
   "pygments_lexer": "ipython3",
   "version": "3.13.7"
  }
 },
 "nbformat": 4,
 "nbformat_minor": 5
}
